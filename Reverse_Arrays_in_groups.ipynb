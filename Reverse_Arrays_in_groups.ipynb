{
  "nbformat": 4,
  "nbformat_minor": 0,
  "metadata": {
    "colab": {
      "provenance": [],
      "authorship_tag": "ABX9TyOx7uWYPG3Q1kfC/q/lHP63",
      "include_colab_link": true
    },
    "kernelspec": {
      "name": "python3",
      "display_name": "Python 3"
    },
    "language_info": {
      "name": "python"
    }
  },
  "cells": [
    {
      "cell_type": "markdown",
      "metadata": {
        "id": "view-in-github",
        "colab_type": "text"
      },
      "source": [
        "<a href=\"https://colab.research.google.com/github/sagar2582/Programs/blob/master/Reverse_Arrays_in_groups.ipynb\" target=\"_parent\"><img src=\"https://colab.research.google.com/assets/colab-badge.svg\" alt=\"Open In Colab\"/></a>"
      ]
    },
    {
      "cell_type": "code",
      "execution_count": null,
      "metadata": {
        "id": "o8mCmFW0lVMr"
      },
      "outputs": [],
      "source": [
        "def reverseInGroups(self, arr, N, K):\n",
        "  for i in range(0,N,K):\n",
        "    if i > N-K:\n",
        "      arr[i:] = reversed(arr[i:])\n",
        "    else:\n",
        "      arr[i:i+k] = reversed(arr[i:i+k])\n",
        "  return arr"
      ]
    }
  ]
}